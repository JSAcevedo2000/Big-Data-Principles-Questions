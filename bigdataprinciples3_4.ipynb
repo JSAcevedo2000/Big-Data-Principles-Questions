{
 "cells": [
  {
   "cell_type": "markdown",
   "metadata": {},
   "source": [
    "## Big data principles and best practices of scalable real-time data systems.\n",
    "### Questions of chapter 3 & 4."
   ]
  },
  {
   "cell_type": "markdown",
   "metadata": {},
   "source": [
    "### Chapter 3"
   ]
  },
  {
   "cell_type": "markdown",
   "metadata": {},
   "source": [
    "#### 1.\tWhy are data corruption issues hard to debug?\n",
    "Because due to the nature of data corruption, it is hard to figure out where or when it occurred. Once the problem is noticed, there is close to no information at all of how it started.\n",
    "\n",
    "#### 2.\tWhy is the ability to \"evolve\" important in a data management context?\n",
    "Because nowadays business requirements can change overnight, changing the requirements of data management by adding new types of data or exponentially scaling its size. Evolving must be a property of schemas to make this changes easier to adopt. \n",
    "\n",
    "#### 3.\tWhich is the best approach you can take to work around the limitations of serialization frameworks?\n",
    "There is no best approach- due to their limitations, the approach you take will always be a trade-off if you are working with multiple programming languages.\n",
    "\n",
    "#### 4. What is an important factor to take in consideration while decising which serialization framework tool to use?\n",
    "To be aware of the trade-offs you are making when deciding which tool to use, as they will never accomplish your requirements perfectly.\n"
   ]
  },
  {
   "cell_type": "markdown",
   "metadata": {},
   "source": [
    "## --------------------------------------------------------------------------------------------"
   ]
  },
  {
   "cell_type": "markdown",
   "metadata": {},
   "source": [
    "### Chapter 4"
   ]
  },
  {
   "cell_type": "markdown",
   "metadata": {},
   "source": [
    "#### 1.\tWhat are the disadvantages of using regular filesystems?\n",
    "They exist in a single machine, causing storage and processing power scaling limited to that machine. However, it has a broader variety of possible operations in comparison to distributed filesystems.\n",
    "\n",
    "#### 2. What is a key/value store?\n",
    "It's something like a giant, persistent hashmap distributed among many machines. A value is the data you want to store, and a key is a unique identificator for each value.\n",
    "\n",
    "#### 3.\tWhat is the main problem with the key/value storing?\n",
    "That it has many things you do not need, such as random reads or writes, and the fact that most of the implementation of a system like this is dedicated to work with that unnecessary features.\n",
    "\n",
    "#### 4.\tWhat are the advantages of distributed filesystems?\n",
    "Distributed filesystems spread their storage on clusters \n"
   ]
  },
  {
   "cell_type": "code",
   "execution_count": null,
   "metadata": {},
   "outputs": [],
   "source": []
  }
 ],
 "metadata": {
  "kernelspec": {
   "display_name": "Python 3",
   "language": "python",
   "name": "python3"
  },
  "language_info": {
   "codemirror_mode": {
    "name": "ipython",
    "version": 3
   },
   "file_extension": ".py",
   "mimetype": "text/x-python",
   "name": "python",
   "nbconvert_exporter": "python",
   "pygments_lexer": "ipython3",
   "version": "3.7.4"
  }
 },
 "nbformat": 4,
 "nbformat_minor": 4
}
