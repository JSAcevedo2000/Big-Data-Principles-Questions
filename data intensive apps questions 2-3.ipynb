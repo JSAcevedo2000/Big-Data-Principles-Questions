{
 "cells": [
  {
   "cell_type": "markdown",
   "metadata": {},
   "source": [
    "# Designing Data-Intensive Applications chapter 2-3"
   ]
  },
  {
   "cell_type": "markdown",
   "metadata": {},
   "source": [
    "## Questions ch. 2"
   ]
  },
  {
   "cell_type": "markdown",
   "metadata": {},
   "source": [
    "### 1. What are the reasons because developers are now opting for NoSQL database models?\n",
    "NoSQL offers greater scalability and specialized queries, characteristics that relational models do not support. Also, this type of DB models are free and open source.\n",
    "\n",
    "### 2. How does an ID work and why is it useful?\n",
    "When using IDs, all the information relevant to humans (the data stored within a database) is stored \"in the ID\", this means that each time you call a determined ID, you will obtain all the information related to it. It is useful because as it has no real meaning, it does not need change: the information it contains can change, but the ID won't.\n",
    "\n",
    "### 3. What was the problem IBM's Information Management System developers faced and document databases developers are facing today?\n",
    "To support many-to-many relationships: IMS devs, when facing this problem, had to decide between denormalizing the data or solving it in a case-by-case basis. This problem was solved by the relational model (SQL), however, as document databases are becoming more popular, they are also facing the same problem as IMS devs.\n",
    "\n",
    "### 4. What is the CODASYL model?\n",
    "The \"Conference on Data System Languages\" model is a network model and a generalization of hierarchical models. It works with a tree structure where every record can have multiple parents. These links between records and parents are more similar to pointers in programming than to foreign keys. \n",
    "\n",
    "### 5. Why is the relational model far simpler than the CODASYL model?\n",
    "Because it is only based on relations (tables) and tuples (rows), avoiding all the nested structures and access paths, while making easier common tasks such as reading particular rows or inserting new data.\n",
    "\n",
    "### 6. When is storage locality an advantage and what is its edge? \n",
    "Storage locality is an advantage when you are working with an application that requires access to entire documents: in comparison with data splitted accross tables, with storage locality the task will require far less time.\n"
   ]
  },
  {
   "cell_type": "markdown",
   "metadata": {},
   "source": [
    "---------------------------------------------------"
   ]
  },
  {
   "cell_type": "markdown",
   "metadata": {},
   "source": [
    "## Questions ch. 3"
   ]
  },
  {
   "cell_type": "markdown",
   "metadata": {},
   "source": [
    "### 1. What is an index and why is it useful?\n",
    "An index is an additional data structure in a database, derived from all the data it contains. It is useful to avoid scanning the whole database each time we are looking for a certain key or ID. \n",
    "\n",
    "### 2. Why usually databases do not have a \"default\" indexing option?\n",
    "Because a wrong index can slow down writes in the database. Each database is different and needs the knowledge of a developer to choose a correct index. \n",
    "\n",
    "### 3. What are the main limitations of hash index?\n",
    "    - A hash index must fit in memory, otherwise it becomes too difficult to maintain it.\n",
    "    - Its range queries are not efficient. If you want to look up for a range, you will have to do so individually.\n",
    "\n",
    "### 4. What is the \"heap file\" approach and when is it efficient?\n",
    "The heap file approach is a way to store data in an index: when the index key makes a reference to a row stored outside the original database. This approach is common to avoid duplicating data and is especially useful when you have to update data without changing its index key. \n",
    "\n",
    "### 5. How does analytic queries work and why are they useful?\n",
    "Usually, analytic queries scan a huge, limited number of records to calculate and return requested aggregate statistics (average, sum or other more specific measures). This type of queries is especially useful for Business Analyst, who are in charge of using this information to make reports (in tools such as Tableau or PowerBI) which are aimed to help in the decision-making in companies.\n",
    "\n",
    "### 6. What is a data warehouse and what's one of its main advantages?\n",
    "A data warehouse is a database separated from a company OLTP systems, in which Business Analysts can query without affecting OLTP operations (as it is a read-only copy of said operations). This type of data infrastructure is commonly used on large entreprises but inexistent on small ones.\n",
    "One if its big advantages is that it can be optimized for analytics queries instead of OLTP operations, making BA's job easier and faster.\n"
   ]
  },
  {
   "cell_type": "code",
   "execution_count": null,
   "metadata": {},
   "outputs": [],
   "source": []
  }
 ],
 "metadata": {
  "kernelspec": {
   "display_name": "Python 3",
   "language": "python",
   "name": "python3"
  },
  "language_info": {
   "codemirror_mode": {
    "name": "ipython",
    "version": 3
   },
   "file_extension": ".py",
   "mimetype": "text/x-python",
   "name": "python",
   "nbconvert_exporter": "python",
   "pygments_lexer": "ipython3",
   "version": "3.7.4"
  }
 },
 "nbformat": 4,
 "nbformat_minor": 4
}
