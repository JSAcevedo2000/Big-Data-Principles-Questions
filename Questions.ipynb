{
 "cells": [
  {
   "cell_type": "markdown",
   "metadata": {},
   "source": [
    "## Big data principles and best practices of scalable real-time data systems.\n",
    "### Questions of chapter 1 & 2."
   ]
  },
  {
   "cell_type": "markdown",
   "metadata": {},
   "source": [
    "### Chapter 1"
   ]
  },
  {
   "cell_type": "markdown",
   "metadata": {},
   "source": [
    "#### 1.\tWhat is the difference of scaling standard RDBMS and scaling Big Data designed databases?\n",
    "\n",
    "#### 2.\tWhat is “latency” when talking about databases? And why is it lower on Big Data designed databases? \n",
    "\n",
    "#### 3.\tHow can “Lambda Architecture” be achieved in a way that it represents an edge in comparison to standard RDBMs?\n",
    "\n",
    "#### 4.\tHow does a “batch processing system” work? \n",
    "\n",
    "#### 5.\tWhat are the limitations of standard SQL databases when dealing with “Big Data”?\n"
   ]
  },
  {
   "cell_type": "markdown",
   "metadata": {},
   "source": [
    "## --------------------------------------------------------------------------------------------"
   ]
  },
  {
   "cell_type": "markdown",
   "metadata": {},
   "source": [
    "### Chapter 2"
   ]
  },
  {
   "cell_type": "markdown",
   "metadata": {},
   "source": [
    "#### 1.\tIs it always better to have the rawest data possible? Why?\n",
    "\n",
    "#### 2.\tWhat is “immutable data” and why is it better for Big Data designed systems?\n",
    "\n",
    "#### 3.\tWhy immutable data is “eternally true”, even when deleted? \n",
    "\n",
    "#### 4.\tWhy “semantic normalization” is not the same as “data normalization”?\n",
    "\n",
    "#### 5.\tHow does a “graph schema” compare to semi-structured text formats?"
   ]
  },
  {
   "cell_type": "code",
   "execution_count": null,
   "metadata": {},
   "outputs": [],
   "source": []
  }
 ],
 "metadata": {
  "kernelspec": {
   "display_name": "Python 3",
   "language": "python",
   "name": "python3"
  },
  "language_info": {
   "codemirror_mode": {
    "name": "ipython",
    "version": 3
   },
   "file_extension": ".py",
   "mimetype": "text/x-python",
   "name": "python",
   "nbconvert_exporter": "python",
   "pygments_lexer": "ipython3",
   "version": "3.7.4"
  }
 },
 "nbformat": 4,
 "nbformat_minor": 4
}
