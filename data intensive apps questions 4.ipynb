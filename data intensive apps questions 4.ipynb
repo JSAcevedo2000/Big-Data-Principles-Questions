{
 "cells": [
  {
   "cell_type": "markdown",
   "metadata": {},
   "source": [
    "# Designing Data-Intensive Applications chapter 4"
   ]
  },
  {
   "cell_type": "markdown",
   "metadata": {},
   "source": [
    "## Questions"
   ]
  },
  {
   "cell_type": "markdown",
   "metadata": {},
   "source": [
    "### 1. What's the problem with human-readable data interchange format?\n",
    "That they usually are inefficient when performing network transfers (in comparison with non human-readable formats). However, for simple use cases this type of format is fine.\n",
    "\n",
    "\n",
    "### 2. Why is forward compatibility useful in a database?\n",
    "Because forward compatibility provides access by newer and older versions of software when you perform updates to your database. This can be traduced to the ability of not losing data whenever you add something new to the database.\n",
    "\n",
    "### 3. What's the problem standarized encodings (JSON, XML...) face when encoding numbers?\n",
    "This type of encodings have a lot of ambiguity when enconding numbers: in the case of XML and CSV, it is impossible to distinguish an actual number from a string of numbers, while in JSON you cannot distiguish between integers and floating-point.\n",
    "\n",
    "### 4. Why binary encoding based on schema a good option to replace standarized encodings?\n",
    "There is a variaty of reasons because binary encodings can be better than standarized ones: they can be more compact, by being schema-based it is easier to check backward and forward compatibility, and the schema allows programmers to generate code from it.  \n",
    "\n",
    "### 5. Describe the dataflow through services (when you need to communicate in a network).\n",
    "If the database needs to communicate in a network, the most common way to design the dataflow is through two different roles: clients and servers. Servers have an API in the network, while Clients can make requests to that API. Remember that the API of the Servers is called \"Service\".\n",
    "\n",
    "### 6. Sometimes, a server can be a client to another service. When does this happen?\n",
    "When you need to descomponse a large application into smaller services: for example, if the server is from a big company that has many departaments, and each department needs its own service. This type of service is more complicated and expensive than others, however having the capability of requesting functions or data from another service is an advantage for large companies. \n",
    "Don't forget that this type of server is called a \"Service-Oriented Architecture (SOA)\", also known as microservices architecture.\n"
   ]
  },
  {
   "cell_type": "code",
   "execution_count": null,
   "metadata": {},
   "outputs": [],
   "source": []
  }
 ],
 "metadata": {
  "kernelspec": {
   "display_name": "Python 3",
   "language": "python",
   "name": "python3"
  },
  "language_info": {
   "codemirror_mode": {
    "name": "ipython",
    "version": 3
   },
   "file_extension": ".py",
   "mimetype": "text/x-python",
   "name": "python",
   "nbconvert_exporter": "python",
   "pygments_lexer": "ipython3",
   "version": "3.7.4"
  }
 },
 "nbformat": 4,
 "nbformat_minor": 4
}
